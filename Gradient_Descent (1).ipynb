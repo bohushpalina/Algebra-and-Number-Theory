{
  "cells": [
    {
      "cell_type": "markdown",
      "metadata": {
        "id": "Md1y1C2hvWhE"
      },
      "source": [
        "# Линейная регрессия"
      ]
    },
    {
      "cell_type": "markdown",
      "metadata": {
        "id": "shLE5ZzCvWhF"
      },
      "source": [
        "## 1. Поиск градиента\n",
        "\n",
        "Продолжить формулу для взятия векторной производной по х для функции квадрата ошибки <br>(в красивом формате со всеми значками угловых скобок, операторов и т. д.). После выполнения этого вы вспомните формулу градиента для квадратичной ошибки и поймете как писать формулы на языке математической верстки TeX\n",
        "\n",
        "$$ f(x) = ||Ax-y||^2 = (Ax-y)^T(Ax-y)$$\n",
        "$$ D_f(x) =  \\frac{d}{dx} (Ax - y)^T (Ax - y) $$\n",
        "$$ \\nabla f(x) = 2A^T (A x - y) $$"
      ]
    },
    {
      "cell_type": "markdown",
      "metadata": {
        "id": "z5hAUdojvWhF"
      },
      "source": [
        "## 2. Прямое решение через ноль производной\n",
        "\n",
        "После пункта 1 у вас есть формула для градиента квадратичной функции ошибки. Она измеряет уровень \"неверности\" решения (вектора $\\vec{x}$). Теперь её надо приравнять к 0 и построить формулу, чтобы узнать при каком x это происходит.\n",
        "\n",
        "$$ $$\n",
        "## Используемые формулы при выводе градиента\n",
        "\n",
        "Норма вектора через скалярное произведение:\n",
        "$$ \\|v\\|^2 = \\langle v, v \\rangle $$\n",
        "Дифференциал скалярного произведения одинаковых векторов:\n",
        "$$ d\\langle u, u \\rangle = 2 \\langle u, du \\rangle $$\n",
        "Дифференциал линейной функции:\n",
        "$$ d(Ax - y) = Adx $$\n",
        "Скалярное произведение двух векторов через транспонирование и умножение:\n",
        "$$ \\langle u, v \\rangle = u^T v $$\n",
        "Свойство линейного отображения в скалярном произведении:  \n",
        "$$ \\langle u,\\ A v \\rangle = \\langle A^T u,\\ v \\rangle $$\n",
        "Градиент как линейное отображение:\n",
        "$$ df(x) = \\langle \\nabla f(x), dx \\rangle $$\n",
        "$$ $$\n",
        "$$ f(x) = \\|Ax - y\\|^2 = \\langle Ax - y,\\ Ax - y \\rangle $$\n",
        "$$ $$\n",
        "$$\n",
        "D_f(x) = d\\langle Ax - y,\\ Ax - y \\rangle\n",
        "= 2\\langle Ax - y,\\ A dx \\rangle\n",
        "= 2 (Ax - y)^T (A dx)\n",
        "= 2 ((Ax - y)^T A) dx\n",
        "= 2 (A^T (Ax - y))^T dx\n",
        "= 2\\langle A^T(Ax - y),\\ dx \\rangle\n",
        "$$\n",
        "\n",
        "$$ $$\n",
        "$$ \\Rightarrow \\nabla f(x) = 2A^T(Ax - y) $$"
      ]
    },
    {
      "cell_type": "markdown",
      "metadata": {
        "id": "vwOQveVMvWhF"
      },
      "source": [
        "### 2.1 Реализация прямого решения"
      ]
    },
    {
      "cell_type": "code",
      "execution_count": 1,
      "metadata": {
        "id": "oBJGOpQovWhF"
      },
      "outputs": [],
      "source": [
        "import numpy as np\n",
        "import matplotlib.pyplot as plt"
      ]
    },
    {
      "cell_type": "code",
      "execution_count": 2,
      "metadata": {
        "colab": {
          "base_uri": "https://localhost:8080/",
          "height": 599
        },
        "id": "kN-Ndil3vWhG",
        "outputId": "35220934-1f31-4310-895d-af84b655bc6c"
      },
      "outputs": [
        {
          "output_type": "display_data",
          "data": {
            "text/plain": [
              "<Figure size 700x700 with 1 Axes>"
            ],
            "image/png": "[encoded data removed]"
          },
          "metadata": {}
        }
      ],
      "source": [
        "# ваши параметры по вариантам\n",
        "a_orig = 0.2\n",
        "b_orig = -2\n",
        "random_state = 2 #х, где х - номер в списке группы, 2\n",
        "\n",
        "# это тот самый столбец который мы и должны отыскать будем нашими методами.\n",
        "# сейчас конечно мы его знаем наперед потому что нам надо создать данные\n",
        "# но в жизни мы изначально этих чисел не знаем и в жизни задача в том чтобы их найти\n",
        "\n",
        "x_orig = np.array([a_orig, b_orig])\n",
        "\n",
        "np.random.seed(random_state)\n",
        "\n",
        "A = np.stack([np.arange(0, 25), np.ones(25)]).T\n",
        "\n",
        "# @ - операция матричного умножения в библиотеке NumPy\n",
        "y = A @ x_orig + np.random.standard_normal(25)\n",
        "# добавили нормально распределённого шума в данных\n",
        "# этим система станет несовместна для обычного решения\n",
        "\n",
        "f, ax = plt.subplots(figsize=(7, 7))\n",
        "\n",
        "# A[:, 0] - выбрать первый столбец, A[0, :] - выбрать первую строку\n",
        "plt.scatter(A[:, 0], y)\n",
        "\n",
        "ax.set_xlim(-25, 25)\n",
        "ax.set_ylim(-25, 25)\n",
        "# рисуем координатные оси\n",
        "ax.axvline(0, color=\"black\")\n",
        "ax.axhline(0, color=\"black\")\n",
        "ax.grid(True)"
      ]
    },
    {
      "cell_type": "code",
      "execution_count": 3,
      "metadata": {
        "id": "tOOxYaMavWhH",
        "colab": {
          "base_uri": "https://localhost:8080/"
        },
        "outputId": "b7a17f0e-e727-40c4-92fe-fe0418d7f189"
      },
      "outputs": [
        {
          "output_type": "execute_result",
          "data": {
            "text/plain": [
              "(array([[ 0.,  1.],\n",
              "        [ 1.,  1.],\n",
              "        [ 2.,  1.],\n",
              "        [ 3.,  1.],\n",
              "        [ 4.,  1.],\n",
              "        [ 5.,  1.],\n",
              "        [ 6.,  1.],\n",
              "        [ 7.,  1.],\n",
              "        [ 8.,  1.],\n",
              "        [ 9.,  1.],\n",
              "        [10.,  1.],\n",
              "        [11.,  1.],\n",
              "        [12.,  1.],\n",
              "        [13.,  1.],\n",
              "        [14.,  1.],\n",
              "        [15.,  1.],\n",
              "        [16.,  1.],\n",
              "        [17.,  1.],\n",
              "        [18.,  1.],\n",
              "        [19.,  1.],\n",
              "        [20.,  1.],\n",
              "        [21.,  1.],\n",
              "        [22.,  1.],\n",
              "        [23.,  1.],\n",
              "        [24.,  1.]]),\n",
              " array([-2.41675785, -1.85626683, -3.7361961 ,  0.24027081, -2.99343559,\n",
              "        -1.84174737, -0.29711858, -1.84528809, -1.45795222, -1.10900761,\n",
              "         0.55145404,  2.49220801,  0.44153939, -0.51792545,  1.33905832,\n",
              "         0.4038403 ,  1.1808695 ,  2.57500122,  0.85212905,  1.80902525,\n",
              "         1.12189211,  2.04356583,  2.65657045,  1.61122095,  2.46117803]))"
            ]
          },
          "metadata": {},
          "execution_count": 3
        }
      ],
      "source": [
        "A, y"
      ]
    },
    {
      "cell_type": "markdown",
      "metadata": {
        "id": "00X9gRl2vWhH"
      },
      "source": [
        "### Вопрос — зачем был дописан вектор единиц справа к иксу?\n",
        "\n",
        "Ответ: Добавление столбца единиц в матрицу A нужно, чтобы учесть свободный коэффициент b в уравнении линейной регрессии:\n",
        "\n",
        "$$\n",
        "y = w_1 x_1 + w_2 x_2 + \\dots + b\n",
        "$$\n",
        "\n",
        "Это позволяет модели правильно предсказывать значение, даже если все x_i = 0;\n",
        "\n",
        "Матрица с добавленным столбцом единиц выглядит так:\n",
        "\n",
        "$$\n",
        "A = \\begin{pmatrix}\n",
        "x_{11} & x_{12} & \\dots & 1 \\\\\n",
        "x_{21} & x_{22} & \\dots & 1 \\\\\n",
        "\\vdots & \\vdots & \\ddots & \\vdots \\\\\n",
        "x_{n1} & x_{n2} & \\dots & 1\n",
        "\\end{pmatrix}\n",
        "$$\n",
        "\n",
        "А предсказание модели записывается формулой:\n",
        "\n",
        "$$\n",
        "\\\\y = A \\cdot \\begin{pmatrix} w_1 \\\\ w_2 \\\\ \\vdots \\\\ b \\end{pmatrix}\n",
        "$$\n",
        "\n",
        "Что означает:\n",
        "\n",
        "$$\n",
        "\\\\y = w \\cdot x_i + b\n",
        "$$\n",
        "\n",
        "Таким образом, модель учитывает не только влияние признаков x_i, но и добавляет фиксированное смещение b.\n"
      ]
    },
    {
      "cell_type": "code",
      "execution_count": 4,
      "metadata": {
        "colab": {
          "base_uri": "https://localhost:8080/"
        },
        "id": "2ar7QBrVvWhH",
        "outputId": "a075d2d4-9056-42fc-a530-1edebffbfd0c"
      },
      "outputs": [
        {
          "output_type": "stream",
          "name": "stdout",
          "text": [
            "Аналитические параметры: a = 0.21382214209220413, b = -2.4175406007755695\n"
          ]
        }
      ],
      "source": [
        "# допишите код для поиска a и b через 0 производной и выведите какой вышел результат\n",
        "#a_b_analytical = ...\n",
        "#a_b_analytical\n",
        "\n",
        "A_T_A = A.T @ A\n",
        "A_T_y = A.T @ y\n",
        "a_b_analytical = np.linalg.inv(A_T_A) @ A_T_y\n",
        "print(f\"Аналитические параметры: a = {a_b_analytical[0]}, b = {a_b_analytical[1]}\")"
      ]
    },
    {
      "cell_type": "code",
      "execution_count": 5,
      "metadata": {
        "colab": {
          "base_uri": "https://localhost:8080/",
          "height": 622
        },
        "id": "2Pr2pm6fvWhH",
        "outputId": "9b1cb029-649d-4be8-cc4b-a2d39cb1adc2"
      },
      "outputs": [
        {
          "output_type": "display_data",
          "data": {
            "text/plain": [
              "<Figure size 700x700 with 1 Axes>"
            ],
            "image/png": "[encoded data removed]"
          },
          "metadata": {}
        }
      ],
      "source": [
        "# постройте линию которая вышла рядом с изначальными данными\n",
        "\n",
        "\n",
        "f, ax = plt.subplots(figsize=(7, 7))\n",
        "plt.scatter(A[:, 0], y)\n",
        "ax.set_xlim(-25, 25)\n",
        "ax.set_ylim(-25, 25)\n",
        "ax.axvline(0, color=\"black\")\n",
        "ax.axhline(0, color=\"black\")\n",
        "ax.grid(True)\n",
        "\n",
        "# Линия, полученная с помощью аналитического решения\n",
        "ax.plot([-25, 25], [a_b_analytical[0]*(-25) + a_b_analytical[1], a_b_analytical[0]*25 + a_b_analytical[1]], color=\"red\")\n",
        "ax.set_title('Линия на основе аналитического решения')\n",
        "plt.show()"
      ]
    },
    {
      "cell_type": "markdown",
      "metadata": {
        "id": "N7KgvDo9vWhH"
      },
      "source": [
        "## 2. Решение с помощью градиентного спуска\n",
        "\n",
        "С помощью найденных выше формул градиента, совершить шаги градиентного спуска для тех же данных.<br>\n",
        "Подобрать значение $\\alpha$, чтобы на графиках была видна сходимость за 10 шагов.<br> Начинаем с параметров 0, 0"
      ]
    },
    {
      "cell_type": "code",
      "execution_count": 6,
      "metadata": {
        "colab": {
          "base_uri": "https://localhost:8080/",
          "height": 639
        },
        "id": "s7f0pg8YvWhH",
        "outputId": "ca139bbc-ff94-429f-c4db-7c248b7e83f8"
      },
      "outputs": [
        {
          "output_type": "display_data",
          "data": {
            "text/plain": [
              "<Figure size 700x700 with 1 Axes>"
            ],
            "image/png": "[encoded data removed]"
          },
          "metadata": {}
        },
        {
          "output_type": "stream",
          "name": "stdout",
          "text": [
            "Полученные параметры: a = 0.21175479955203103, b = -2.3838195415875005\n"
          ]
        }
      ],
      "source": [
        "alpha = 0.00019  # шаг обучения\n",
        "a_b_analytical = np.array([0.0, 0.0])\n",
        "\n",
        "for i in range(1700):\n",
        "    # предсказанные значения по текущим параметрам\n",
        "    y_pred = A @ a_b_analytical\n",
        "\n",
        "    # ошибка\n",
        "    error = y_pred - y\n",
        "\n",
        "    # градиент (формула: 2 * A.T @ (Ax - y))\n",
        "    grad = 2 * (A.T @ error)\n",
        "\n",
        "    # антиградиент — это минус градиент\n",
        "    antigrad = -grad\n",
        "\n",
        "    # делаем шаг градиентного спуска\n",
        "    a_b_analytical += alpha * antigrad\n",
        "\n",
        "f, ax = plt.subplots(figsize=(7, 7))\n",
        "plt.scatter(A[:, 0], y)\n",
        "ax.set_xlim(-25, 25)\n",
        "ax.set_ylim(-25, 25)\n",
        "ax.axvline(0, color='black')\n",
        "ax.axhline(0, color='black')\n",
        "ax.grid(True)\n",
        "\n",
        "# линия которая обучилась\n",
        "ax.plot(\n",
        "    [-25, 25],\n",
        "    [\n",
        "        a_b_analytical[0] * (-25) + a_b_analytical[1],\n",
        "        a_b_analytical[0] * (25) + a_b_analytical[1]\n",
        "    ],\n",
        "    color=\"red\"\n",
        ")\n",
        "ax.set_title(f'Линия по данным после шага {i+1}')\n",
        "plt.show()\n",
        "print(f\"Полученные параметры: a = {a_b_analytical[0]}, b = {a_b_analytical[1]}\")"
      ]
    }
  ],
  "metadata": {
    "kernelspec": {
      "display_name": "churn",
      "language": "python",
      "name": "python3"
    },
    "language_info": {
      "codemirror_mode": {
        "name": "ipython",
        "version": 3
      },
      "file_extension": ".py",
      "mimetype": "text/x-python",
      "name": "python",
      "nbconvert_exporter": "python",
      "pygments_lexer": "ipython3",
      "version": "3.10.14"
    },
    "colab": {
      "provenance": []
    }
  },
  "nbformat": 4,
  "nbformat_minor": 0
}